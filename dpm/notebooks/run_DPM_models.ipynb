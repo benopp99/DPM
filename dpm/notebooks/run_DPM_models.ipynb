import numpy as np
import sys
from dpm import myutils,darkmatter,modelprofiles


